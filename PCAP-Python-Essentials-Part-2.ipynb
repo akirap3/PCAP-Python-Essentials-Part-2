{
 "cells": [
  {
   "cell_type": "markdown",
   "metadata": {},
   "source": [
    "# Python Essentials Part 2"
   ]
  },
  {
   "cell_type": "markdown",
   "metadata": {},
   "source": [
    "![](./images/1-Python-Essentials-part2.png)"
   ]
  },
  {
   "cell_type": "markdown",
   "metadata": {},
   "source": [
    "## Course Syllabus"
   ]
  },
  {
   "cell_type": "markdown",
   "metadata": {},
   "source": [
    "In this course you will learn:\n",
    "\n",
    "- how to adopt general coding techniques and best practices in your projects;\n",
    "- how to process strings;\n",
    "- how to use object-oriented programming in Python;\n",
    "- how to import and use Python modules, including the math, random, platform, os, time, datetime, and calendar modules;\n",
    "- how to create and use your own Python modules and packages;\n",
    "- how to use the exception mechanism in Python;\n",
    "- how to use generators, iterators, and closures in Python;\n",
    "- how to process files.\n",
    "\n",
    "The course is divided into 4 modules:\n",
    "\n",
    "1. **Module 1**: Modules, Packages and PIP;\n",
    "2. **Module 2**: Strings, string and list methods, and exceptions;\n",
    "3. **Module 3**: Object-Oriented Programming;\n",
    "4. **Module 4**: Miscellaneous (generators, iterators, closures, file streams, processing text and binary files, the os, time, datetime, and calendar module)"
   ]
  },
  {
   "cell_type": "markdown",
   "metadata": {},
   "source": [
    "## Where do you use Python?"
   ]
  },
  {
   "cell_type": "markdown",
   "metadata": {},
   "source": [
    "Do you remember Battlefield 2, Battlefield 2142 and Battlefield Heroes - strategy and first person shooter games from EA DICE? All the games use Python for logic and server controls. Python is frequently used for creating open-source, free games, e.g., OpenRTS, PySol, Metin 2, or Frets On Fire - famous Guitar Hero-like games written in pygame.\n",
    "\n",
    "And what about the major websites and services? Dropbox? UBER? Spotify? Pintrest? BuzzFeed? Yes. They were all written, to a greater or lesser extent, in Python. Other examples?\n",
    "\n",
    "- Internet Applications (BitTorrent, Jogger Publishing Assistant, TheCircle, TwistedMatrix)\n",
    "- 3D CAD/CAM (FreeCAD, Fandango, Blender, Vintech RCAM)\n",
    "- Enterprise Applications (Odoo, Tryton, Picalo, LinOTP 2, RESTx)\n",
    "- Image Applications (Gnofract 4D, Gogh, imgSeek, MayaVi, VPython)\n",
    "- Mobile Applications (Aarlogic C05/3, AppBackup, Pyroute)\n",
    "- Office Applications (calibre, faces, Notalon, pyspread)\n",
    "- Personal Information Managers (BitPim, Narval, Prioritise, Task Coach, WikidPad)\n",
    "(Source: https://wiki.python.org/moin/PythonProjects)\n",
    "\n",
    "\n",
    "Generally, Python is a great choice for:\n",
    "\n",
    "- Web and Internet development (e.g., Django and Pyramid frameworks, Flask and Bottle micro-frameworks)\n",
    "- Scientific and numeric computing (e.g., SciPy - a collection of packages for the purposes of mathematics, science, and engineering; Ipython - an interactive shell that features editing and recording of work sessions)\n",
    "- Education (it's a brilliant language for teaching programming! And that's why we're offering this course to you!)\n",
    "- Desktop GUIs (e.g., wxWidgets, Kivy, Qt)\n",
    "- Software Development (build control, management, and testing - Scons, Buildbot, Apache Gump, Roundup, Trac)\n",
    "- Business applications (ERP and e-commerce systems - Odoo, Tryton)\n",
    "(Source: https://www.python.org/about/apps)\n",
    "\n",
    "\n"
   ]
  },
  {
   "cell_type": "markdown",
   "metadata": {},
   "source": [
    "## Python Essentials 2: Module 1"
   ]
  },
  {
   "cell_type": "markdown",
   "metadata": {},
   "source": [
    "### Modules, Packages and PIP\n",
    "\n",
    "In this module, you will learn about:\n",
    "\n",
    "- importing and using Python modules;\n",
    "- using some of the most useful Python standard library modules;\n",
    "- constructing and using Python packages;\n",
    "- PIP (Python Installation Package) and how to use it to install and uninstall ready-to-use packages from PyPI."
   ]
  },
  {
   "cell_type": "markdown",
   "metadata": {},
   "source": [
    "### 1.4.1.1 Python Package Installer (PIP)"
   ]
  },
  {
   "cell_type": "markdown",
   "metadata": {},
   "source": [
    "#### Python packaging ecosystem and how to use it"
   ]
  },
  {
   "cell_type": "markdown",
   "metadata": {},
   "source": [
    "The repository (or repo for short) we mentioned before is named PyPI (it's short for Python Package Index) and it's maintained by a workgroup named the Packaging Working Group, a part of the Python Software Foundation, whose main task is to support Python developers in efficient code dissemination.\n",
    "\n",
    "You can find their website here:\n",
    "https://wiki.python.org/psf/PackagingWG.\n",
    "\n",
    "\n",
    "The PyPI website (administered by PWG) is located at the address:\n",
    "https://pypi.org/.\n",
    "\n",
    "Anyway, PyPI is the most important Python repo in the world. If we modify the classic saying a little, we can state that “all Python roads lead to PyPl”, and that’s no exaggeration at all.                                               "
   ]
  },
  {
   "cell_type": "markdown",
   "metadata": {},
   "source": [
    "#### How to use pip"
   ]
  },
  {
   "cell_type": "markdown",
   "metadata": {},
   "source": [
    "- To check pip's version one the following commands should be issued:\n",
    "\n",
    "    `pip --version` or\n",
    "    \n",
    "    `pip3 --version`"
   ]
  },
  {
   "cell_type": "code",
   "execution_count": null,
   "metadata": {},
   "outputs": [],
   "source": [
    "pip help"
   ]
  },
  {
   "cell_type": "markdown",
   "metadata": {},
   "source": [
    "- If you want to know more about any of the listed operations, you can use the following form of pip invocation:"
   ]
  },
  {
   "cell_type": "code",
   "execution_count": null,
   "metadata": {},
   "outputs": [],
   "source": [
    "pip help install"
   ]
  },
  {
   "cell_type": "markdown",
   "metadata": {},
   "source": [
    "- If you want to know what Python packages have been installed so far, you can use the list operation – just like this:"
   ]
  },
  {
   "cell_type": "code",
   "execution_count": null,
   "metadata": {},
   "outputs": [],
   "source": [
    "pip list"
   ]
  },
  {
   "cell_type": "markdown",
   "metadata": {},
   "source": [
    "- The pip list isn't very informative, and it may happen that it won't satisfy your curiosity. Fortunately, there’s a command that can tell you more about any of the installed packages (note the word installed). The syntax of the command looks as follows:"
   ]
  },
  {
   "cell_type": "code",
   "execution_count": null,
   "metadata": {},
   "outputs": [],
   "source": [
    "pip show package_name"
   ]
  },
  {
   "cell_type": "code",
   "execution_count": null,
   "metadata": {},
   "outputs": [],
   "source": [
    "pip show pip"
   ]
  },
  {
   "cell_type": "markdown",
   "metadata": {},
   "source": [
    "Look at the two lines at the bottom of the output. They show:\n",
    "\n",
    "- which packages are needed to successfully utilize the package (`Requires:`)\n",
    "- which packages need the package to be successfully utilized (`Required-by:`)\n",
    "\n",
    "As you can see, both properties are empty. Feel free to try to use the show command in relation to any other installed package."
   ]
  },
  {
   "cell_type": "markdown",
   "metadata": {},
   "source": [
    "The power of pip comes from the fact that it’s actually a gateway to the Python software universe. Thanks to that, you can browse and install any of the hundreds of ready-to-use packages gathered in the PyPI repositories. Don't forget that pip is not able to store all PyPI content locally (it’s unnecessary and it would be uneconomical).\n",
    "\n",
    "In effect, pip uses the Internet to query PyPI and to download the required data. This means that you have to have a network connection working whenever you’re going to ask pip for anything that may involve direct interactions with the PyPI infrastructure.\n",
    "\n",
    "One of these cases occurs when you want to search through PyPI in order to find a desired package. This kind of search is initiated by the following command:"
   ]
  },
  {
   "cell_type": "code",
   "execution_count": null,
   "metadata": {},
   "outputs": [],
   "source": [
    "pip search anystring"
   ]
  },
  {
   "cell_type": "markdown",
   "metadata": {},
   "source": [
    "The anystring provided by you will be searched in:\n",
    "\n",
    "- the names of all the packages;\n",
    "- the summary strings of all the packages.\n",
    "\n",
    "Be aware of the fact that some searches may generate a real avalanche of data, so try to be as specific as possible. For example, an innocent-looking query like this one:"
   ]
  },
  {
   "cell_type": "code",
   "execution_count": null,
   "metadata": {},
   "outputs": [],
   "source": [
    "pip search pip"
   ]
  },
  {
   "cell_type": "markdown",
   "metadata": {},
   "source": [
    "produces more than 100 lines of results (try it yourself – don't take our word for it). By the way – the search is case insensitive.\n",
    "\n",
    "If you’re not a fan of console reading, you can use the alternative way of browsing PyPI content offered by a search engine, available at https://pypi.org/search."
   ]
  },
  {
   "cell_type": "markdown",
   "metadata": {},
   "source": [
    "In our case, we’re going to install a package named pygame – it's an extended and complex library allowing programmers to develop computer games using Python.\n",
    "\n",
    "The project has been in development since the year 2000, so it's a mature and reliable piece of code. If you want to know more about the project and about the community which leads it, visit https://www.pygame.org.\n",
    "\n",
    "If you’re a system administrator, you can install pygame using the following command:"
   ]
  },
  {
   "cell_type": "code",
   "execution_count": 4,
   "metadata": {},
   "outputs": [
    {
     "name": "stdout",
     "output_type": "stream",
     "text": [
      "Collecting pygame\n",
      "  Downloading pygame-2.0.1-cp37-cp37m-win32.whl (4.8 MB)\n",
      "Installing collected packages: pygame\n",
      "Successfully installed pygame-2.0.1\n",
      "Note: you may need to restart the kernel to use updated packages.\n"
     ]
    }
   ],
   "source": [
    "pip install pygame"
   ]
  },
  {
   "cell_type": "markdown",
   "metadata": {},
   "source": [
    "If you're not an admin, or you don't want to fatten up your OS by installing pygame system-wide, you can install it for you only:"
   ]
  },
  {
   "cell_type": "code",
   "execution_count": null,
   "metadata": {},
   "outputs": [],
   "source": [
    "pip install --user pygame"
   ]
  },
  {
   "cell_type": "markdown",
   "metadata": {},
   "source": [
    "#### How to use pip: a simple test program"
   ]
  },
  {
   "cell_type": "markdown",
   "metadata": {},
   "source": [
    "Now that pygame is finally accessible, we can try to use it in a very simple test program. Let’s comment on it briefly.\n",
    "\n",
    "- line 1: import pygame and let it serve us;\n",
    "- line 3: the program will run as long as the run variable is True;\n",
    "- lines 4 and 5: determine the window's size;\n",
    "- line 6: initialize the pygame environment;\n",
    "- line 7: prepare the application window and set its size;\n",
    "- line 8: make an object representing the default font of size 48 points;\n",
    "- line 9: make an object representing a given text – the text will be anti-aliased (True) and white (255,255,255)\n",
    "- line 10: insert the text into the (currently invisible) screen buffer;\n",
    "- line 11: flip the screen buffers to make the text visible;\n",
    "- line 12: the pygame main loop starts here;\n",
    "- line 13: get a list of all pending pygame events;\n",
    "- lines 14 through 16: check whether the user has closed the window or clicked somewhere inside it or pressed any key;\n",
    "- line 15: if yes, stop executing the code."
   ]
  },
  {
   "cell_type": "code",
   "execution_count": 1,
   "metadata": {},
   "outputs": [
    {
     "name": "stdout",
     "output_type": "stream",
     "text": [
      "pygame 2.0.1 (SDL 2.0.14, Python 3.7.4)\n",
      "Hello from the pygame community. https://www.pygame.org/contribute.html\n"
     ]
    }
   ],
   "source": [
    "import pygame\n",
    "\n",
    "run = True\n",
    "width = 400\n",
    "height = 100\n",
    "pygame.init()\n",
    "screen = pygame.display.set_mode((width, height))\n",
    "font = pygame.font.SysFont(None, 48)\n",
    "text = font.render(\"Welcome to pygame\", True, (255, 255, 255))\n",
    "screen.blit(text, ((width - text.get_width()) // 2, (height - text.get_height()) // 2))\n",
    "pygame.display.flip()\n",
    "while run:\n",
    "    for event in pygame.event.get():\n",
    "        if event.type == pygame.QUIT\\\n",
    "        or event.type == pygame.MOUSEBUTTONUP\\\n",
    "        or event.type == pygame.KEYUP:\n",
    "            run = False\n"
   ]
  },
  {
   "cell_type": "markdown",
   "metadata": {},
   "source": [
    "![](./images/2-pygame.png)"
   ]
  },
  {
   "cell_type": "markdown",
   "metadata": {},
   "source": [
    "The `pip install` has two important additional abilities:"
   ]
  },
  {
   "cell_type": "markdown",
   "metadata": {},
   "source": [
    "- it is able to **update** a locally installed package – e.g., if you want to make sure that you’re using the latest version of a particular package, you can run the following command:\n",
    "\n",
    "    `pip install -U package_name`\n",
    "    \n",
    "    where `-U` means update. Note: this form of the command makes use of the `--user` option for the same purpose as presented previously;"
   ]
  },
  {
   "cell_type": "markdown",
   "metadata": {},
   "source": [
    "- it is able to **install a user-selected version** of a package (pip installs the **newest** available version by default); to achieve this goal you should use the following syntax:\n",
    "\n",
    "    `pip install package_name==package_version`\n",
    "    \n",
    "    (note the double equals sign) e.g.,\n",
    "    \n",
    "    `pip install pygame==1.9.2`"
   ]
  },
  {
   "cell_type": "markdown",
   "metadata": {},
   "source": [
    "- If any of the currently installed packages are no longer needed and you want to get rid of them, pip will be useful, too. Its uninstall command will execute all the needed steps.\n",
    "\n",
    "    The required syntax is clear and simple:\n",
    "\n",
    "    `pip uninstall package_name`"
   ]
  },
  {
   "cell_type": "markdown",
   "metadata": {},
   "source": [
    "#### Key takeaways"
   ]
  },
  {
   "cell_type": "markdown",
   "metadata": {},
   "source": [
    "- List of main pip activities looks as follows:\n",
    "    - `pip help operation` - shows brief pip's description;\n",
    "    - `pip list` - shows list of currently installed packages;\n",
    "    - `pip show package_name` - shows package_name info including package's dependencies;\n",
    "    - `pip search anystring` - searches through PyPI directories in order to find packages which name contains anystring;\n",
    "    - `pip install name` - installs name system-wide (expect problems when you don't have administrative rights);\n",
    "    - `pip install --user name` - install name for you only; no other your platform's user will be able to use it;\n",
    "    - `pip install -U name` - updates previously installed package;\n",
    "    - `pip uninstall name` - uninstalls previously installed package;"
   ]
  },
  {
   "cell_type": "markdown",
   "metadata": {},
   "source": [
    "## Python Essentials 2 - Module 2"
   ]
  },
  {
   "cell_type": "markdown",
   "metadata": {},
   "source": [
    "#### Strings, String and List Methods, Exceptions\n",
    "\n",
    "In this module, you will learn about:\n",
    "\n",
    "- Characters, strings and coding standards;\n",
    "- Strings vs. lists – similarities and differences;\n",
    "- Lists methods;\n",
    "- String methods;\n",
    "- Python's way of handling runtime errors;\n",
    "- Controlling the flow of errors using try and except;\n",
    "- Hierarchy of exceptions."
   ]
  },
  {
   "cell_type": "markdown",
   "metadata": {},
   "source": [
    "#### Key takeaways"
   ]
  },
  {
   "cell_type": "markdown",
   "metadata": {},
   "source": [
    "1. Computers store characters as numbers. There is more than one possible way of encoding characters, but only some of them gained worldwide popularity and are commonly used in IT: these are ***ASCII*** (used mainly to encode the Latin alphabet and some of its derivates) and **UNICODE** (able to encode virtually all alphabets being used by humans).\n",
    "\n",
    "\n",
    "2. A number corresponding to a particular character is called a ***codepoint***\n",
    "\n",
    "\n",
    "3. UNICODE uses different ways of encoding when it comes to storing the characters using files or computer memory: two of them are ***UCS-4*** and ***UTF-8*** (the latter is the most common as it wastes less memory space)."
   ]
  },
  {
   "cell_type": "markdown",
   "metadata": {},
   "source": [
    "Exercise 1\n",
    "\n",
    "What is BOM?\n",
    "\n",
    "***BOM*** (Byte Order Mark) is a special combination of bits announcing encoding used by a file's content (eg. UCS-4 or UTF-B)."
   ]
  },
  {
   "cell_type": "markdown",
   "metadata": {},
   "source": [
    "Exercise 2\n",
    "\n",
    "Is Python 3 I18Ned?\n",
    "\n",
    "Yes, it's completely internationalized - we can use UNICODE characters inside our code, read them from input and send to output."
   ]
  },
  {
   "cell_type": "code",
   "execution_count": null,
   "metadata": {},
   "outputs": [],
   "source": []
  },
  {
   "cell_type": "markdown",
   "metadata": {},
   "source": [
    "### 3.2.1.14 Counting stack\n"
   ]
  },
  {
   "cell_type": "markdown",
   "metadata": {},
   "source": [
    "#### Scenario\n",
    "\n",
    "We've showed you recently how to extend Stack possibilities by defining a new class (i.e., a subclass) which retains all inherited traits and adds some new ones.\n",
    "\n",
    "Your task is to extend the `Stack` class behavior in such a way so that the class is able to count all the elements that are pushed and popped (we assume that counting pops is enough). Use the `Stack` class we've provided in the editor.\n",
    "\n",
    "Follow the hints:\n",
    "\n",
    "introduce a property designed to count pop operations and name it in a way which guarantees hiding it;\n",
    "initialize it to zero inside the constructor;\n",
    "provide a method which returns the value currently assigned to the counter (name it `get_counter()`).\n",
    "\n",
    "Complete the code in the editor. Run it to check whether your code outputs 100."
   ]
  },
  {
   "cell_type": "code",
   "execution_count": 5,
   "metadata": {},
   "outputs": [
    {
     "name": "stdout",
     "output_type": "stream",
     "text": [
      "100\n"
     ]
    }
   ],
   "source": [
    "class Stack:\n",
    "    def __init__(self):\n",
    "        self.__stk = []\n",
    "        \n",
    "    def push(self, val):\n",
    "        self.__stk.append(val)\n",
    "        \n",
    "    def pop(self):\n",
    "        val = self.__stk[-1]\n",
    "        del self.__stk[-1]\n",
    "        return val\n",
    "\n",
    "class CountingStack(Stack):\n",
    "    def __init__(self):\n",
    "        Stack.__init__(self)\n",
    "        self.__counter = 0\n",
    "    \n",
    "    def get_counter(self):\n",
    "        return self.__counter\n",
    "    \n",
    "    def pop(self):\n",
    "        Stack.pop(self)\n",
    "        self.__counter += 1\n",
    "        \n",
    "stk = CountingStack()\n",
    "for i in range(100):\n",
    "    stk.push(i)\n",
    "    stk.pop()\n",
    "    \n",
    "print(stk.get_counter())     "
   ]
  },
  {
   "cell_type": "markdown",
   "metadata": {},
   "source": [
    "#### Scenario\n",
    "\n",
    "As you already know, a stack is a data structure realizing the so-called LIFO (Last In - First Out) model. It's easy and you've already grown perfectly accustomed to it.\n",
    "\n",
    "Let's taste something new now. A queue is a data model characterized by the term ***FIFO: First In - Fist Out***. Note: a regular queue (line) you know from shops or post offices works exactly in the same way - a customer who came first is served first too.\n",
    "\n",
    "Your task is to implement the Queue class with two basic operations:\n",
    "\n",
    "- `put(element)`, which puts an element at end of the queue;\n",
    "- `get()`, which takes an element from the front of the queue and returns it as the result (the queue cannot be empty to successfully perform it.)\n",
    "\n",
    "Follow the hints:\n",
    "\n",
    "- use a list as your storage (just like we did in stack)\n",
    "- `put()` should append elements to the beginning of the list, while `get()` should remove the elements from the list's end;\n",
    "- define a new exception named `QueueError` (choose an exception to derive it from) and raise it when `get()` tries to operate on an empty list."
   ]
  },
  {
   "cell_type": "code",
   "execution_count": 21,
   "metadata": {},
   "outputs": [
    {
     "name": "stdout",
     "output_type": "stream",
     "text": [
      "1\n",
      "dog\n",
      "False\n",
      "Queue Error\n"
     ]
    }
   ],
   "source": [
    "class QueueError(BaseException):\n",
    "    pass\n",
    "\n",
    "class Queue:\n",
    "    def __init__(self):\n",
    "        self.__queue = []\n",
    "    \n",
    "    def put(self, elm):\n",
    "        self.__queue.append(elm)\n",
    "        \n",
    "    def get(self):\n",
    "        val = self.__queue[0]\n",
    "        del self.__queue[0]\n",
    "        return val\n",
    "\n",
    "que = Queue()\n",
    "que.put(1)\n",
    "que.put(\"dog\")\n",
    "que.put(False)\n",
    "\n",
    "try:\n",
    "    for i in range(4):\n",
    "        print(que.get())\n",
    "except:\n",
    "    print(\"Queue Error\")"
   ]
  },
  {
   "cell_type": "markdown",
   "metadata": {},
   "source": [
    "#### Scenario\n",
    "\n",
    "Your task is to slightly extend the Queue class' capabilities. We want it to have a parameterless method that returns True if the queue is empty and False otherwise."
   ]
  },
  {
   "cell_type": "code",
   "execution_count": 42,
   "metadata": {},
   "outputs": [
    {
     "name": "stdout",
     "output_type": "stream",
     "text": [
      "1\n",
      "dog\n",
      "False\n",
      "Queue empty\n"
     ]
    }
   ],
   "source": [
    "class QueueError(BaseException):\n",
    "    pass\n",
    "\n",
    "class Queue:\n",
    "    def __init__(self):\n",
    "        self.__queue = []\n",
    "        \n",
    "    def put(self, elm):\n",
    "        self.__queue.append(elm)\n",
    "        \n",
    "    def get(self):\n",
    "        val = self.__queue[0]\n",
    "        del self.__queue[0]\n",
    "        return val\n",
    "    \n",
    "    def isempty(self):\n",
    "        if self.__queue == []:\n",
    "            return True\n",
    "        return False    \n",
    "\n",
    "class SuperQueue(Queue):\n",
    "    def __init__(self):\n",
    "        Queue.__init__(self)\n",
    "\n",
    "que = SuperQueue()\n",
    "que.put(1)\n",
    "que.put(\"dog\")\n",
    "que.put(False)\n",
    "for i in range(4):\n",
    "    if not que.isempty():\n",
    "        print(que.get())\n",
    "    else:\n",
    "        print(\"Queue empty\")"
   ]
  },
  {
   "cell_type": "code",
   "execution_count": null,
   "metadata": {},
   "outputs": [],
   "source": []
  },
  {
   "cell_type": "code",
   "execution_count": null,
   "metadata": {},
   "outputs": [],
   "source": []
  },
  {
   "cell_type": "code",
   "execution_count": null,
   "metadata": {},
   "outputs": [],
   "source": []
  },
  {
   "cell_type": "code",
   "execution_count": null,
   "metadata": {},
   "outputs": [],
   "source": []
  },
  {
   "cell_type": "code",
   "execution_count": null,
   "metadata": {},
   "outputs": [],
   "source": []
  },
  {
   "cell_type": "code",
   "execution_count": null,
   "metadata": {},
   "outputs": [],
   "source": []
  },
  {
   "cell_type": "code",
   "execution_count": null,
   "metadata": {},
   "outputs": [],
   "source": []
  },
  {
   "cell_type": "code",
   "execution_count": null,
   "metadata": {},
   "outputs": [],
   "source": []
  },
  {
   "cell_type": "code",
   "execution_count": null,
   "metadata": {},
   "outputs": [],
   "source": []
  },
  {
   "cell_type": "code",
   "execution_count": null,
   "metadata": {},
   "outputs": [],
   "source": []
  },
  {
   "cell_type": "code",
   "execution_count": null,
   "metadata": {},
   "outputs": [],
   "source": []
  },
  {
   "cell_type": "code",
   "execution_count": null,
   "metadata": {},
   "outputs": [],
   "source": []
  },
  {
   "cell_type": "code",
   "execution_count": null,
   "metadata": {},
   "outputs": [],
   "source": []
  },
  {
   "cell_type": "code",
   "execution_count": null,
   "metadata": {},
   "outputs": [],
   "source": []
  },
  {
   "cell_type": "code",
   "execution_count": null,
   "metadata": {},
   "outputs": [],
   "source": []
  },
  {
   "cell_type": "code",
   "execution_count": null,
   "metadata": {},
   "outputs": [],
   "source": []
  },
  {
   "cell_type": "code",
   "execution_count": null,
   "metadata": {},
   "outputs": [],
   "source": []
  },
  {
   "cell_type": "code",
   "execution_count": null,
   "metadata": {},
   "outputs": [],
   "source": []
  },
  {
   "cell_type": "code",
   "execution_count": null,
   "metadata": {},
   "outputs": [],
   "source": []
  },
  {
   "cell_type": "code",
   "execution_count": null,
   "metadata": {},
   "outputs": [],
   "source": []
  },
  {
   "cell_type": "code",
   "execution_count": null,
   "metadata": {},
   "outputs": [],
   "source": []
  },
  {
   "cell_type": "code",
   "execution_count": null,
   "metadata": {},
   "outputs": [],
   "source": []
  },
  {
   "cell_type": "code",
   "execution_count": null,
   "metadata": {},
   "outputs": [],
   "source": []
  },
  {
   "cell_type": "code",
   "execution_count": null,
   "metadata": {},
   "outputs": [],
   "source": []
  },
  {
   "cell_type": "code",
   "execution_count": null,
   "metadata": {},
   "outputs": [],
   "source": []
  },
  {
   "cell_type": "code",
   "execution_count": null,
   "metadata": {},
   "outputs": [],
   "source": []
  },
  {
   "cell_type": "code",
   "execution_count": null,
   "metadata": {},
   "outputs": [],
   "source": []
  },
  {
   "cell_type": "code",
   "execution_count": null,
   "metadata": {},
   "outputs": [],
   "source": []
  },
  {
   "cell_type": "code",
   "execution_count": null,
   "metadata": {},
   "outputs": [],
   "source": []
  },
  {
   "cell_type": "code",
   "execution_count": null,
   "metadata": {},
   "outputs": [],
   "source": []
  },
  {
   "cell_type": "code",
   "execution_count": null,
   "metadata": {},
   "outputs": [],
   "source": []
  },
  {
   "cell_type": "code",
   "execution_count": null,
   "metadata": {},
   "outputs": [],
   "source": []
  },
  {
   "cell_type": "code",
   "execution_count": null,
   "metadata": {},
   "outputs": [],
   "source": []
  },
  {
   "cell_type": "code",
   "execution_count": null,
   "metadata": {},
   "outputs": [],
   "source": []
  },
  {
   "cell_type": "code",
   "execution_count": null,
   "metadata": {},
   "outputs": [],
   "source": []
  },
  {
   "cell_type": "code",
   "execution_count": null,
   "metadata": {},
   "outputs": [],
   "source": []
  },
  {
   "cell_type": "code",
   "execution_count": null,
   "metadata": {},
   "outputs": [],
   "source": []
  },
  {
   "cell_type": "code",
   "execution_count": null,
   "metadata": {},
   "outputs": [],
   "source": []
  }
 ],
 "metadata": {
  "kernelspec": {
   "display_name": "Python 3",
   "language": "python",
   "name": "python3"
  },
  "language_info": {
   "codemirror_mode": {
    "name": "ipython",
    "version": 3
   },
   "file_extension": ".py",
   "mimetype": "text/x-python",
   "name": "python",
   "nbconvert_exporter": "python",
   "pygments_lexer": "ipython3",
   "version": "3.7.4"
  }
 },
 "nbformat": 4,
 "nbformat_minor": 2
}
