{
 "cells": [
  {
   "cell_type": "markdown",
   "metadata": {},
   "source": [
    "# Python Essentials Part 2"
   ]
  },
  {
   "cell_type": "markdown",
   "metadata": {},
   "source": [
    "![](./images/1-Python-Essentials-part2.png)"
   ]
  },
  {
   "cell_type": "markdown",
   "metadata": {},
   "source": [
    "## Course Syllabus"
   ]
  },
  {
   "cell_type": "markdown",
   "metadata": {},
   "source": [
    "In this course you will learn:\n",
    "\n",
    "- how to adopt general coding techniques and best practices in your projects;\n",
    "- how to process strings;\n",
    "- how to use object-oriented programming in Python;\n",
    "- how to import and use Python modules, including the math, random, platform, os, time, datetime, and calendar modules;\n",
    "- how to create and use your own Python modules and packages;\n",
    "- how to use the exception mechanism in Python;\n",
    "- how to use generators, iterators, and closures in Python;\n",
    "- how to process files.\n",
    "\n",
    "The course is divided into 4 modules:\n",
    "\n",
    "1. **Module 1**: Modules, Packages and PIP;\n",
    "2. **Module 2**: Strings, string and list methods, and exceptions;\n",
    "3. **Module 3**: Object-Oriented Programming;\n",
    "4. **Module 4**: Miscellaneous (generators, iterators, closures, file streams, processing text and binary files, the os, time, datetime, and calendar module)"
   ]
  },
  {
   "cell_type": "markdown",
   "metadata": {},
   "source": [
    "## Where do you use Python?"
   ]
  },
  {
   "cell_type": "markdown",
   "metadata": {},
   "source": [
    "Do you remember Battlefield 2, Battlefield 2142 and Battlefield Heroes - strategy and first person shooter games from EA DICE? All the games use Python for logic and server controls. Python is frequently used for creating open-source, free games, e.g., OpenRTS, PySol, Metin 2, or Frets On Fire - famous Guitar Hero-like games written in pygame.\n",
    "\n",
    "And what about the major websites and services? Dropbox? UBER? Spotify? Pintrest? BuzzFeed? Yes. They were all written, to a greater or lesser extent, in Python. Other examples?\n",
    "\n",
    "- Internet Applications (BitTorrent, Jogger Publishing Assistant, TheCircle, TwistedMatrix)\n",
    "- 3D CAD/CAM (FreeCAD, Fandango, Blender, Vintech RCAM)\n",
    "- Enterprise Applications (Odoo, Tryton, Picalo, LinOTP 2, RESTx)\n",
    "- Image Applications (Gnofract 4D, Gogh, imgSeek, MayaVi, VPython)\n",
    "- Mobile Applications (Aarlogic C05/3, AppBackup, Pyroute)\n",
    "- Office Applications (calibre, faces, Notalon, pyspread)\n",
    "- Personal Information Managers (BitPim, Narval, Prioritise, Task Coach, WikidPad)\n",
    "(Source: https://wiki.python.org/moin/PythonProjects)\n",
    "\n",
    "\n",
    "Generally, Python is a great choice for:\n",
    "\n",
    "- Web and Internet development (e.g., Django and Pyramid frameworks, Flask and Bottle micro-frameworks)\n",
    "- Scientific and numeric computing (e.g., SciPy - a collection of packages for the purposes of mathematics, science, and engineering; Ipython - an interactive shell that features editing and recording of work sessions)\n",
    "- Education (it's a brilliant language for teaching programming! And that's why we're offering this course to you!)\n",
    "- Desktop GUIs (e.g., wxWidgets, Kivy, Qt)\n",
    "- Software Development (build control, management, and testing - Scons, Buildbot, Apache Gump, Roundup, Trac)\n",
    "- Business applications (ERP and e-commerce systems - Odoo, Tryton)\n",
    "(Source: https://www.python.org/about/apps)\n",
    "\n",
    "\n"
   ]
  },
  {
   "cell_type": "markdown",
   "metadata": {},
   "source": [
    "## Python Essentials 2: Module 1"
   ]
  },
  {
   "cell_type": "markdown",
   "metadata": {},
   "source": [
    "### Modules, Packages and PIP\n",
    "\n",
    "In this module, you will learn about:\n",
    "\n",
    "- importing and using Python modules;\n",
    "- using some of the most useful Python standard library modules;\n",
    "- constructing and using Python packages;\n",
    "- PIP (Python Installation Package) and how to use it to install and uninstall ready-to-use packages from PyPI."
   ]
  },
  {
   "cell_type": "markdown",
   "metadata": {},
   "source": [
    "### 1.4.1.1 Python Package Installer (PIP)"
   ]
  },
  {
   "cell_type": "markdown",
   "metadata": {},
   "source": [
    "#### Python packaging ecosystem and how to use it"
   ]
  },
  {
   "cell_type": "markdown",
   "metadata": {},
   "source": [
    "The repository (or repo for short) we mentioned before is named PyPI (it's short for Python Package Index) and it's maintained by a workgroup named the Packaging Working Group, a part of the Python Software Foundation, whose main task is to support Python developers in efficient code dissemination.\n",
    "\n",
    "You can find their website here:\n",
    "https://wiki.python.org/psf/PackagingWG.\n",
    "\n",
    "\n",
    "The PyPI website (administered by PWG) is located at the address:\n",
    "https://pypi.org/.\n",
    "\n",
    "Anyway, PyPI is the most important Python repo in the world. If we modify the classic saying a little, we can state that “all Python roads lead to PyPl”, and that’s no exaggeration at all.                                               "
   ]
  },
  {
   "cell_type": "markdown",
   "metadata": {},
   "source": [
    "#### How to use pip"
   ]
  },
  {
   "cell_type": "markdown",
   "metadata": {},
   "source": [
    "- To check pip's version one the following commands should be issued:\n",
    "\n",
    "    `pip --version` or\n",
    "    \n",
    "    `pip3 --version`"
   ]
  },
  {
   "cell_type": "code",
   "execution_count": null,
   "metadata": {},
   "outputs": [],
   "source": [
    "pip help"
   ]
  },
  {
   "cell_type": "markdown",
   "metadata": {},
   "source": [
    "- If you want to know more about any of the listed operations, you can use the following form of pip invocation:"
   ]
  },
  {
   "cell_type": "code",
   "execution_count": null,
   "metadata": {},
   "outputs": [],
   "source": [
    "pip help install"
   ]
  },
  {
   "cell_type": "markdown",
   "metadata": {},
   "source": [
    "- If you want to know what Python packages have been installed so far, you can use the list operation – just like this:"
   ]
  },
  {
   "cell_type": "code",
   "execution_count": null,
   "metadata": {},
   "outputs": [],
   "source": [
    "pip list"
   ]
  },
  {
   "cell_type": "markdown",
   "metadata": {},
   "source": [
    "- The pip list isn't very informative, and it may happen that it won't satisfy your curiosity. Fortunately, there’s a command that can tell you more about any of the installed packages (note the word installed). The syntax of the command looks as follows:"
   ]
  },
  {
   "cell_type": "code",
   "execution_count": null,
   "metadata": {},
   "outputs": [],
   "source": [
    "pip show package_name"
   ]
  },
  {
   "cell_type": "code",
   "execution_count": null,
   "metadata": {},
   "outputs": [],
   "source": [
    "pip show pip"
   ]
  },
  {
   "cell_type": "markdown",
   "metadata": {},
   "source": [
    "Look at the two lines at the bottom of the output. They show:\n",
    "\n",
    "- which packages are needed to successfully utilize the package (`Requires:`)\n",
    "- which packages need the package to be successfully utilized (`Required-by:`)\n",
    "\n",
    "As you can see, both properties are empty. Feel free to try to use the show command in relation to any other installed package."
   ]
  },
  {
   "cell_type": "markdown",
   "metadata": {},
   "source": [
    "The power of pip comes from the fact that it’s actually a gateway to the Python software universe. Thanks to that, you can browse and install any of the hundreds of ready-to-use packages gathered in the PyPI repositories. Don't forget that pip is not able to store all PyPI content locally (it’s unnecessary and it would be uneconomical).\n",
    "\n",
    "In effect, pip uses the Internet to query PyPI and to download the required data. This means that you have to have a network connection working whenever you’re going to ask pip for anything that may involve direct interactions with the PyPI infrastructure.\n",
    "\n",
    "One of these cases occurs when you want to search through PyPI in order to find a desired package. This kind of search is initiated by the following command:"
   ]
  },
  {
   "cell_type": "code",
   "execution_count": null,
   "metadata": {},
   "outputs": [],
   "source": [
    "pip search anystring"
   ]
  },
  {
   "cell_type": "markdown",
   "metadata": {},
   "source": [
    "The anystring provided by you will be searched in:\n",
    "\n",
    "- the names of all the packages;\n",
    "- the summary strings of all the packages.\n",
    "\n",
    "Be aware of the fact that some searches may generate a real avalanche of data, so try to be as specific as possible. For example, an innocent-looking query like this one:"
   ]
  },
  {
   "cell_type": "code",
   "execution_count": null,
   "metadata": {},
   "outputs": [],
   "source": [
    "pip search pip"
   ]
  },
  {
   "cell_type": "markdown",
   "metadata": {},
   "source": [
    "produces more than 100 lines of results (try it yourself – don't take our word for it). By the way – the search is case insensitive.\n",
    "\n",
    "If you’re not a fan of console reading, you can use the alternative way of browsing PyPI content offered by a search engine, available at https://pypi.org/search."
   ]
  },
  {
   "cell_type": "markdown",
   "metadata": {},
   "source": [
    "In our case, we’re going to install a package named pygame – it's an extended and complex library allowing programmers to develop computer games using Python.\n",
    "\n",
    "The project has been in development since the year 2000, so it's a mature and reliable piece of code. If you want to know more about the project and about the community which leads it, visit https://www.pygame.org.\n",
    "\n",
    "If you’re a system administrator, you can install pygame using the following command:"
   ]
  },
  {
   "cell_type": "code",
   "execution_count": 4,
   "metadata": {},
   "outputs": [
    {
     "name": "stdout",
     "output_type": "stream",
     "text": [
      "Collecting pygame\n",
      "  Downloading pygame-2.0.1-cp37-cp37m-win32.whl (4.8 MB)\n",
      "Installing collected packages: pygame\n",
      "Successfully installed pygame-2.0.1\n",
      "Note: you may need to restart the kernel to use updated packages.\n"
     ]
    }
   ],
   "source": [
    "pip install pygame"
   ]
  },
  {
   "cell_type": "markdown",
   "metadata": {},
   "source": [
    "If you're not an admin, or you don't want to fatten up your OS by installing pygame system-wide, you can install it for you only:"
   ]
  },
  {
   "cell_type": "code",
   "execution_count": null,
   "metadata": {},
   "outputs": [],
   "source": [
    "pip install --user pygame"
   ]
  },
  {
   "cell_type": "markdown",
   "metadata": {},
   "source": [
    "#### How to use pip: a simple test program"
   ]
  },
  {
   "cell_type": "markdown",
   "metadata": {},
   "source": [
    "Now that pygame is finally accessible, we can try to use it in a very simple test program. Let’s comment on it briefly.\n",
    "\n",
    "- line 1: import pygame and let it serve us;\n",
    "- line 3: the program will run as long as the run variable is True;\n",
    "- lines 4 and 5: determine the window's size;\n",
    "- line 6: initialize the pygame environment;\n",
    "- line 7: prepare the application window and set its size;\n",
    "- line 8: make an object representing the default font of size 48 points;\n",
    "- line 9: make an object representing a given text – the text will be anti-aliased (True) and white (255,255,255)\n",
    "- line 10: insert the text into the (currently invisible) screen buffer;\n",
    "- line 11: flip the screen buffers to make the text visible;\n",
    "- line 12: the pygame main loop starts here;\n",
    "- line 13: get a list of all pending pygame events;\n",
    "- lines 14 through 16: check whether the user has closed the window or clicked somewhere inside it or pressed any key;\n",
    "- line 15: if yes, stop executing the code."
   ]
  },
  {
   "cell_type": "code",
   "execution_count": 1,
   "metadata": {},
   "outputs": [
    {
     "name": "stdout",
     "output_type": "stream",
     "text": [
      "pygame 2.0.1 (SDL 2.0.14, Python 3.7.4)\n",
      "Hello from the pygame community. https://www.pygame.org/contribute.html\n"
     ]
    }
   ],
   "source": [
    "import pygame\n",
    "\n",
    "run = True\n",
    "width = 400\n",
    "height = 100\n",
    "pygame.init()\n",
    "screen = pygame.display.set_mode((width, height))\n",
    "font = pygame.font.SysFont(None, 48)\n",
    "text = font.render(\"Welcome to pygame\", True, (255, 255, 255))\n",
    "screen.blit(text, ((width - text.get_width()) // 2, (height - text.get_height()) // 2))\n",
    "pygame.display.flip()\n",
    "while run:\n",
    "    for event in pygame.event.get():\n",
    "        if event.type == pygame.QUIT\\\n",
    "        or event.type == pygame.MOUSEBUTTONUP\\\n",
    "        or event.type == pygame.KEYUP:\n",
    "            run = False\n"
   ]
  },
  {
   "cell_type": "markdown",
   "metadata": {},
   "source": [
    "![](./images/2-pygame.png)"
   ]
  },
  {
   "cell_type": "markdown",
   "metadata": {},
   "source": [
    "The `pip install` has two important additional abilities:"
   ]
  },
  {
   "cell_type": "markdown",
   "metadata": {},
   "source": [
    "- it is able to **update** a locally installed package – e.g., if you want to make sure that you’re using the latest version of a particular package, you can run the following command:\n",
    "\n",
    "    `pip install -U package_name`\n",
    "    \n",
    "    where `-U` means update. Note: this form of the command makes use of the `--user` option for the same purpose as presented previously;"
   ]
  },
  {
   "cell_type": "markdown",
   "metadata": {},
   "source": [
    "- it is able to **install a user-selected version** of a package (pip installs the **newest** available version by default); to achieve this goal you should use the following syntax:\n",
    "\n",
    "    `pip install package_name==package_version`\n",
    "    \n",
    "    (note the double equals sign) e.g.,\n",
    "    \n",
    "    `pip install pygame==1.9.2`"
   ]
  },
  {
   "cell_type": "markdown",
   "metadata": {},
   "source": [
    "- If any of the currently installed packages are no longer needed and you want to get rid of them, pip will be useful, too. Its uninstall command will execute all the needed steps.\n",
    "\n",
    "    The required syntax is clear and simple:\n",
    "\n",
    "    `pip uninstall package_name`"
   ]
  },
  {
   "cell_type": "markdown",
   "metadata": {},
   "source": [
    "#### Key takeaways"
   ]
  },
  {
   "cell_type": "markdown",
   "metadata": {},
   "source": [
    "- List of main pip activities looks as follows:\n",
    "    - `pip help operation` - shows brief pip's description;\n",
    "    - `pip list` - shows list of currently installed packages;\n",
    "    - `pip show package_name` - shows package_name info including package's dependencies;\n",
    "    - `pip search anystring` - searches through PyPI directories in order to find packages which name contains anystring;\n",
    "    - `pip install name` - installs name system-wide (expect problems when you don't have administrative rights);\n",
    "    - `pip install --user name` - install name for you only; no other your platform's user will be able to use it;\n",
    "    - `pip install -U name` - updates previously installed package;\n",
    "    - `pip uninstall name` - uninstalls previously installed package;"
   ]
  },
  {
   "cell_type": "markdown",
   "metadata": {},
   "source": [
    "## Python Essentials 2 - Module 2"
   ]
  },
  {
   "cell_type": "markdown",
   "metadata": {},
   "source": [
    "#### Strings, String and List Methods, Exceptions\n",
    "\n",
    "In this module, you will learn about:\n",
    "\n",
    "- Characters, strings and coding standards;\n",
    "- Strings vs. lists – similarities and differences;\n",
    "- Lists methods;\n",
    "- String methods;\n",
    "- Python's way of handling runtime errors;\n",
    "- Controlling the flow of errors using try and except;\n",
    "- Hierarchy of exceptions."
   ]
  },
  {
   "cell_type": "markdown",
   "metadata": {},
   "source": [
    "#### Key takeaways"
   ]
  },
  {
   "cell_type": "markdown",
   "metadata": {},
   "source": [
    "1. Computers store characters as numbers. There is more than one possible way of encoding characters, but only some of them gained worldwide popularity and are commonly used in IT: these are ***ASCII*** (used mainly to encode the Latin alphabet and some of its derivates) and **UNICODE** (able to encode virtually all alphabets being used by humans).\n",
    "\n",
    "\n",
    "2. A number corresponding to a particular character is called a ***codepoint***\n",
    "\n",
    "\n",
    "3. UNICODE uses different ways of encoding when it comes to storing the characters using files or computer memory: two of them are ***UCS-4*** and ***UTF-8*** (the latter is the most common as it wastes less memory space)."
   ]
  },
  {
   "cell_type": "markdown",
   "metadata": {},
   "source": [
    "Exercise 1\n",
    "\n",
    "What is BOM?\n",
    "\n",
    "***BOM*** (Byte Order Mark) is a special combination of bits announcing encoding used by a file's content (eg. UCS-4 or UTF-B)."
   ]
  },
  {
   "cell_type": "markdown",
   "metadata": {},
   "source": [
    "Exercise 2\n",
    "\n",
    "Is Python 3 I18Ned?\n",
    "\n",
    "Yes, it's completely internationalized - we can use UNICODE characters inside our code, read them from input and send to output."
   ]
  },
  {
   "cell_type": "code",
   "execution_count": null,
   "metadata": {},
   "outputs": [],
   "source": []
  },
  {
   "cell_type": "markdown",
   "metadata": {},
   "source": [
    "### 3.2.1.14 Counting stack\n"
   ]
  },
  {
   "cell_type": "markdown",
   "metadata": {},
   "source": [
    "#### Scenario\n",
    "\n",
    "We've showed you recently how to extend Stack possibilities by defining a new class (i.e., a subclass) which retains all inherited traits and adds some new ones.\n",
    "\n",
    "Your task is to extend the `Stack` class behavior in such a way so that the class is able to count all the elements that are pushed and popped (we assume that counting pops is enough). Use the `Stack` class we've provided in the editor.\n",
    "\n",
    "Follow the hints:\n",
    "\n",
    "introduce a property designed to count pop operations and name it in a way which guarantees hiding it;\n",
    "initialize it to zero inside the constructor;\n",
    "provide a method which returns the value currently assigned to the counter (name it `get_counter()`).\n",
    "\n",
    "Complete the code in the editor. Run it to check whether your code outputs 100."
   ]
  },
  {
   "cell_type": "code",
   "execution_count": 5,
   "metadata": {},
   "outputs": [
    {
     "name": "stdout",
     "output_type": "stream",
     "text": [
      "100\n"
     ]
    }
   ],
   "source": [
    "class Stack:\n",
    "    def __init__(self):\n",
    "        self.__stk = []\n",
    "        \n",
    "    def push(self, val):\n",
    "        self.__stk.append(val)\n",
    "        \n",
    "    def pop(self):\n",
    "        val = self.__stk[-1]\n",
    "        del self.__stk[-1]\n",
    "        return val\n",
    "\n",
    "class CountingStack(Stack):\n",
    "    def __init__(self):\n",
    "        Stack.__init__(self)\n",
    "        self.__counter = 0\n",
    "    \n",
    "    def get_counter(self):\n",
    "        return self.__counter\n",
    "    \n",
    "    def pop(self):\n",
    "        Stack.pop(self)\n",
    "        self.__counter += 1\n",
    "        \n",
    "stk = CountingStack()\n",
    "for i in range(100):\n",
    "    stk.push(i)\n",
    "    stk.pop()\n",
    "    \n",
    "print(stk.get_counter())     "
   ]
  },
  {
   "cell_type": "markdown",
   "metadata": {},
   "source": [
    "#### Scenario\n",
    "\n",
    "As you already know, a stack is a data structure realizing the so-called LIFO (Last In - First Out) model. It's easy and you've already grown perfectly accustomed to it.\n",
    "\n",
    "Let's taste something new now. A queue is a data model characterized by the term ***FIFO: First In - Fist Out***. Note: a regular queue (line) you know from shops or post offices works exactly in the same way - a customer who came first is served first too.\n",
    "\n",
    "Your task is to implement the Queue class with two basic operations:\n",
    "\n",
    "- `put(element)`, which puts an element at end of the queue;\n",
    "- `get()`, which takes an element from the front of the queue and returns it as the result (the queue cannot be empty to successfully perform it.)\n",
    "\n",
    "Follow the hints:\n",
    "\n",
    "- use a list as your storage (just like we did in stack)\n",
    "- `put()` should append elements to the beginning of the list, while `get()` should remove the elements from the list's end;\n",
    "- define a new exception named `QueueError` (choose an exception to derive it from) and raise it when `get()` tries to operate on an empty list."
   ]
  },
  {
   "cell_type": "code",
   "execution_count": 21,
   "metadata": {},
   "outputs": [
    {
     "name": "stdout",
     "output_type": "stream",
     "text": [
      "1\n",
      "dog\n",
      "False\n",
      "Queue Error\n"
     ]
    }
   ],
   "source": [
    "class QueueError(BaseException):\n",
    "    pass\n",
    "\n",
    "class Queue:\n",
    "    def __init__(self):\n",
    "        self.__queue = []\n",
    "    \n",
    "    def put(self, elm):\n",
    "        self.__queue.append(elm)\n",
    "        \n",
    "    def get(self):\n",
    "        val = self.__queue[0]\n",
    "        del self.__queue[0]\n",
    "        return val\n",
    "\n",
    "que = Queue()\n",
    "que.put(1)\n",
    "que.put(\"dog\")\n",
    "que.put(False)\n",
    "\n",
    "try:\n",
    "    for i in range(4):\n",
    "        print(que.get())\n",
    "except:\n",
    "    print(\"Queue Error\")"
   ]
  },
  {
   "cell_type": "markdown",
   "metadata": {},
   "source": [
    "#### Scenario\n",
    "\n",
    "Your task is to slightly extend the Queue class' capabilities. We want it to have a parameterless method that returns True if the queue is empty and False otherwise."
   ]
  },
  {
   "cell_type": "code",
   "execution_count": 47,
   "metadata": {},
   "outputs": [
    {
     "name": "stdout",
     "output_type": "stream",
     "text": [
      "1\n",
      "dog\n",
      "False\n",
      "Queue empty\n"
     ]
    }
   ],
   "source": [
    "class QueueError(BaseException):\n",
    "    pass\n",
    "\n",
    "class Queue:\n",
    "    def __init__(self):\n",
    "        self.__queue = []\n",
    "        \n",
    "    def put(self, elm):\n",
    "        self.__queue.append(elm)\n",
    "        \n",
    "    def get(self):\n",
    "        val = self.__queue[0]\n",
    "        del self.__queue[0]\n",
    "        return val\n",
    "    \n",
    "    \n",
    "\n",
    "class SuperQueue(Queue):\n",
    "    def __init__(self):\n",
    "        Queue.__init__(self)\n",
    "        \n",
    "    def isempty(self):\n",
    "        # 這裡是重點\n",
    "        if self._Queue__queue == []:\n",
    "            return True\n",
    "        return False    \n",
    "\n",
    "que = SuperQueue()\n",
    "que.put(1)\n",
    "que.put(\"dog\")\n",
    "que.put(False)\n",
    "for i in range(4):\n",
    "    if not que.isempty():\n",
    "        print(que.get())\n",
    "    else:\n",
    "        print(\"Queue empty\")"
   ]
  },
  {
   "cell_type": "markdown",
   "metadata": {},
   "source": [
    "### Scenario\n",
    "We need a class able to count seconds. Easy? Not as much as you may think as we're going to have some specific expectations.\n",
    "\n",
    "\n",
    "Your class will be called `Timer`. Its constructor accepts three arguments representing ***hours*** (a value from range \\[0..23\\] - we will be using the military time), ***minutes*** (from range \\[0..59\\]) and ***seconds*** (from range \\[0..59\\]).\n",
    "\n",
    "Zero is the default value for all of the above parameters. There is no need to perform any validation checks.\n",
    "\n",
    "The class itself should provide the following facilities:\n",
    "\n",
    "- objects of the class should be \"printable\", i.e. they should be able to implicitly convert themselves into strings of the following form: \"hh:mm:ss\", with leading zeros added when any of the values is less than 10;\n",
    "- the class should be equipped with parameterless methods called next_second() and previous_second(), incrementing the time stored inside objects by +1/-1 second respectively.\n",
    "    \n",
    "Use the following hints:\n",
    "\n",
    "- all object's properties should be private;\n",
    "- consider writing a separate function (not method!) to format the time string.\n",
    "\n",
    "Expected output\n",
    "```\n",
    "23:59:59\n",
    "00:00:00\n",
    "23:59:59\n",
    "```"
   ]
  },
  {
   "cell_type": "code",
   "execution_count": 64,
   "metadata": {},
   "outputs": [
    {
     "name": "stdout",
     "output_type": "stream",
     "text": [
      "23:59:59\n",
      "00:00:00\n",
      "23:59:59\n"
     ]
    }
   ],
   "source": [
    "class Timer:\n",
    "    def __init__(self, hour=0, minute=0, second=0):\n",
    "        self.__hour = hour\n",
    "        self.__minute = minute\n",
    "        self.__second = second\n",
    "        \n",
    "    def __str__(self):\n",
    "        __second = self.__second\n",
    "        __minute = self.__minute\n",
    "        __hour = self.__hour\n",
    "        if self.__second < 10:\n",
    "            __second = '0' + str(self.__second)\n",
    "        \n",
    "        if self.__minute < 10:\n",
    "            __minute = '0' + str(self.__minute)\n",
    "            \n",
    "        if self.__hour <10:\n",
    "            __hour = '0' + str(self.__hour)        \n",
    "        \n",
    "        outcome = str(__hour) + ':' + str(__minute) + ':' + str(__second)\n",
    "        return outcome\n",
    "    \n",
    "    def next_second(self):\n",
    "        self.__second += 1\n",
    "        \n",
    "        if self.__second == 60:\n",
    "            self.__second = 0\n",
    "            self.__minute += 1\n",
    "            if self.__minute == 60:\n",
    "                self.__minute = 0\n",
    "                self.__hour += 1\n",
    "                if self.__hour == 24:\n",
    "                    self.__hour = 0\n",
    "   \n",
    "    def prev_second(self):        \n",
    "        if self.__second == 0:\n",
    "            self.__second = 59\n",
    "            if self.__minute == 0:\n",
    "                self.__minute = 59\n",
    "                if self.__hour == 0:\n",
    "                    self.__hour = 23\n",
    "                else:\n",
    "                    self.__hour -= 1\n",
    "            else:\n",
    "                self.__minute -= 1    \n",
    "        else:\n",
    "            self.second -= 1\n",
    "        \n",
    "timer = Timer(23, 59, 59)\n",
    "print(timer)\n",
    "timer.next_second()\n",
    "print(timer)\n",
    "timer.prev_second()\n",
    "print(timer)"
   ]
  },
  {
   "cell_type": "markdown",
   "metadata": {},
   "source": [
    "#### Scenario\n",
    "Your task is to implement a class called Weeker. Yes, your eyes don't deceive you - this name comes from the fact that objects of that class will be able to store and to manipulate days of a week.\n",
    "\n",
    "The class constructor accepts one argument - a string. The string represents the name of the day of the week and the only acceptable values must come from the following set:\n",
    "\n",
    "`Mon Thu Wed Thu Fri Sat Sun`\n",
    "\n",
    "Invoking the constructor with an argument from outside this set should raise the WeekDayError exception (define it yourself; don't worry, we'll talk about the objective nature of exceptions soon). The class should provide the following facilities:\n",
    "\n",
    "- objects of the class should be \"printable\", i.e. they should be able to implicitly convert themselves into strings of the same form as the constructor arguments;\n",
    "- the class should be equipped with one-parameter methods called `add_days(n)` and `subtract_days(n)`, with `n` being an integer number and updating the day of week stored inside the object in the way reflecting the change of date by the indicated number of days, forward or backward.\n",
    "- all object's properties should be private;\n",
    "\n",
    "Expected output\n",
    "```\n",
    "Mon\n",
    "Thu\n",
    "Sun\n",
    "Sorry, I can't serve your request.\n",
    "```"
   ]
  },
  {
   "cell_type": "code",
   "execution_count": 87,
   "metadata": {},
   "outputs": [
    {
     "name": "stdout",
     "output_type": "stream",
     "text": [
      "Mon\n",
      "Tus\n",
      "Sun\n",
      "Sorry, I can't serve your request.\n"
     ]
    }
   ],
   "source": [
    "class WeekDayError(Exception):\n",
    "    pass\n",
    "\n",
    "class Weeker:\n",
    "    __weekdays = ['Mon','Tus','Wed', 'Thu','Fri','Sat', 'Sun']\n",
    "    \n",
    "    def __init__(self,day):\n",
    "        try:\n",
    "            self.__day = day\n",
    "            self.__stat = self.__weekdays.index(self.__day)\n",
    "        except:\n",
    "            raise WeekDayError\n",
    "    \n",
    "    def __str__(self):\n",
    "        return self.__weekdays[self.__stat]\n",
    "        \n",
    "    def add_days(self, n):\n",
    "        self.__stat = (self.__stat + n ) % 7\n",
    "        self.__day = self.__stat\n",
    "        \n",
    "    def subtract_days(self, n):\n",
    "        self.__stat = (self.__stat - n ) % 7\n",
    "        self.__day = self.__stat\n",
    "        \n",
    "try:\n",
    "    weekday = Weeker('Mon')\n",
    "    print(weekday)\n",
    "    weekday.add_days(15)\n",
    "    print(weekday)\n",
    "    weekday.subtract_days(23)\n",
    "    print(weekday)\n",
    "    weekday = Weeker('Monday')\n",
    "except WeekDayError:\n",
    "    print(\"Sorry, I can't serve your request.\")"
   ]
  },
  {
   "cell_type": "markdown",
   "metadata": {},
   "source": [
    "#### Scenario\n",
    "Let's visit a very special place - a plane with the Cartesian coordinate system (you can learn more about this concept here: https://en.wikipedia.org/wiki/Cartesian_coordinate_system).\n",
    "\n",
    "Each point located on the plane can be described as a pair of coordinates customarily called x and y. We expect that you are able to write a Python class which stores both coordinates as float numbers. Moreover, we want the objects of this class to evaluate the distances between any of the two points situated on the plane.\n",
    "\n",
    "The task is rather easy if you employ the function named hypot() (available through the math module) which evaluates the length of the hypotenuse of a right triangle (more details here: https://en.wikipedia.org/wiki/Hypotenuse) and here: https://docs.python.org/3.7/library/math.html#trigonometric-functions.\n",
    "\n",
    "This is how we imagine the class:\n",
    "\n",
    "- it's called `Point`;\n",
    "- its constructor accepts two arguments (x and y respectively), both default to zero;\n",
    "- all the properties should be private;\n",
    "- the class contains two parameterless methods called `getx()` and `gety()`, which return each of the two coordinates (the coordinates are stored privately, so they cannot be accessed directly from within the object);\n",
    "- the class provides a method called `distance_from_xy(x,y)`, which calculates and returns the distance between the point stored inside the object and the other point given as a pair of floats;\n",
    "- the class provides a method called `distance_from_point(point)`, which calculates the distance (like the previous method), but the other point's location is given as another Point class object;\n",
    "\n",
    "Expected output\n",
    "```\n",
    "1.4142135623730951\n",
    "1.4142135623730951\n",
    "```"
   ]
  },
  {
   "cell_type": "code",
   "execution_count": 90,
   "metadata": {},
   "outputs": [
    {
     "name": "stdout",
     "output_type": "stream",
     "text": [
      "1.4142135623730951\n",
      "1.4142135623730951\n"
     ]
    }
   ],
   "source": [
    "import math\n",
    "\n",
    "class Point:\n",
    "    def __init__(self, x=0.0, y=0.0):\n",
    "        self.__x = x\n",
    "        self.__y = y\n",
    "    \n",
    "    def getx(self):\n",
    "        return self.__x\n",
    "    \n",
    "    def gety(self):\n",
    "        return self.__y\n",
    "        \n",
    "    def distance_from_xy(self, x, y):\n",
    "        return math.hypot((x - self.getx()),(y - self.gety()))\n",
    "        \n",
    "    def distance_from_point(self, point):\n",
    "        return math.hypot((point.getx()-self.getx()),(point.gety()-self.gety()))\n",
    "\n",
    "point1 = Point(0,0)\n",
    "point2 = Point(1,1)\n",
    "print(point1.distance_from_point(point2))\n",
    "print(point2.distance_from_xy(2,0))\n",
    "        "
   ]
  },
  {
   "cell_type": "markdown",
   "metadata": {},
   "source": [
    "#### Scenario\n",
    "We're going to put three points into one class, which will let us define a triangle.\n",
    "\n",
    "The new class will be called `Triangle` and this is the list of our expectations:\n",
    "\n",
    "- the constructor accepts three arguments - all of them are objects of the `Point` class;\n",
    "- the points are stored inside the object as a private list;\n",
    "- the class provides a parameterless method called `perimeter()`, which calculates the perimeter of the triangle described by the three points; the perimeter is a sum of all legs' lengths (we mention it for the record, although we are sure that you know it perfectly yourself.)"
   ]
  },
  {
   "cell_type": "code",
   "execution_count": 93,
   "metadata": {},
   "outputs": [
    {
     "name": "stdout",
     "output_type": "stream",
     "text": [
      "3.414213562373095\n"
     ]
    }
   ],
   "source": [
    "import math\n",
    "\n",
    "class Point:\n",
    "    def __init__(self, x=0.0, y=0.0):\n",
    "        self.__x = x\n",
    "        self.__y = y\n",
    "    \n",
    "    def getx(self):\n",
    "        return self.__x\n",
    "    \n",
    "    def gety(self):\n",
    "        return self.__y\n",
    "        \n",
    "    def distance_from_xy(self, x, y):\n",
    "        return math.hypot((x - self.getx()),(y - self.gety()))\n",
    "        \n",
    "    def distance_from_point(self, point):\n",
    "        return math.hypot((point.getx()-self.getx()),(point.gety()-self.gety()))\n",
    "\n",
    "\n",
    "class Triangle:\n",
    "    def __init__(self, vertice1, vertice2, vertice3):\n",
    "        self.__point1 = vertice1\n",
    "        self.__point2 = vertice2\n",
    "        self.__point3 = vertice3\n",
    "    \n",
    "    def perimeter(self):\n",
    "        self.__leg1 = self.__point1.distance_from_point(self.__point2)\n",
    "        self.__leg2 = self.__point1.distance_from_point(self.__point3)\n",
    "        self.__leg3 = self.__point2.distance_from_point(self.__point3)\n",
    "        self.__leg = self.__leg1 + self.__leg2 + self.__leg3\n",
    "        return self.__leg\n",
    "    \n",
    "triangle = Triangle(Point(0, 0), Point(1, 0), Point(0, 1))\n",
    "print(triangle.perimeter())"
   ]
  },
  {
   "cell_type": "markdown",
   "metadata": {},
   "source": [
    "### 3.5.1.20 OOP Fundamentals: MRO"
   ]
  },
  {
   "cell_type": "markdown",
   "metadata": {},
   "source": [
    "#### What is Method Resolution Order (MRO) and why is it that not all inheritances make sense?"
   ]
  },
  {
   "cell_type": "markdown",
   "metadata": {},
   "source": [
    "MRO, in general, is a way (you can call it a strategy) in which a particular programming language scans through the upper part of a class’s hierarchy in order to find the method it currently needs. It's worth emphasizing that different languages use slightly (or even completely) different MROs. Python is a unique creature in this respect, however, and its customs are a bit specific.\n",
    "\n",
    "We're going to show you how Python's MRO works in two peculiar cases that are clear-cut examples of problems which may occur when you try to use multiple inheritance too recklessly. Let's start with a snippet that initially may look simple. Look at what we've prepared for you in the editor."
   ]
  },
  {
   "cell_type": "code",
   "execution_count": 94,
   "metadata": {},
   "outputs": [
    {
     "name": "stdout",
     "output_type": "stream",
     "text": [
      "bottom\n",
      "middle\n",
      "top\n"
     ]
    }
   ],
   "source": [
    "class Top:\n",
    "    def m_top(self):\n",
    "        print(\"top\")\n",
    "\n",
    "\n",
    "class Middle(Top):\n",
    "    def m_middle(self):\n",
    "        print(\"middle\")\n",
    "\n",
    "\n",
    "class Bottom(Middle):\n",
    "    def m_bottom(self):\n",
    "        print(\"bottom\")\n",
    "\n",
    "\n",
    "object = Bottom()\n",
    "object.m_bottom()\n",
    "object.m_middle()\n",
    "object.m_top()\n"
   ]
  },
  {
   "cell_type": "markdown",
   "metadata": {},
   "source": [
    "No surprises so far. Let's make a tiny change to this code. Have a look:"
   ]
  },
  {
   "cell_type": "code",
   "execution_count": 95,
   "metadata": {},
   "outputs": [
    {
     "name": "stdout",
     "output_type": "stream",
     "text": [
      "bottom\n",
      "middle\n",
      "top\n"
     ]
    }
   ],
   "source": [
    "class Top:\n",
    "    def m_top(self):\n",
    "        print(\"top\")\n",
    "\n",
    "\n",
    "class Middle(Top):\n",
    "    def m_middle(self):\n",
    "        print(\"middle\")\n",
    "\n",
    "\n",
    "class Bottom(Middle, Top):\n",
    "    def m_bottom(self):\n",
    "        print(\"bottom\")\n",
    "\n",
    "\n",
    "object = Bottom()\n",
    "object.m_bottom()\n",
    "object.m_middle()\n",
    "object.m_top()"
   ]
  },
  {
   "cell_type": "markdown",
   "metadata": {},
   "source": [
    "In this exotic way, we've turned a very simple code with a clear single-inheritance path into a mysterious multiple-inheritance riddle. “Is it valid?” you may ask. Yes, it is. “How is that possible?” you should ask now, and we hope that you really feel the need to ask this question.\n",
    "\n",
    "As you can see, the order in which the two superclasses have been listed between parenthesis is compliant with the code's structure: the Middle class precedes the Top class, just like in the real inheritance path.\n",
    "\n",
    "Despite its oddity, the sample is correct and works as expected, but it has to be stated that this notation doesn’t bring any new functionality or additional meaning.\n",
    "\n",
    "Let's modify the code once again - now we'll swap both superclass names in the Bottom class definition. This is what the snippet looks like now:"
   ]
  },
  {
   "cell_type": "code",
   "execution_count": 96,
   "metadata": {},
   "outputs": [
    {
     "ename": "TypeError",
     "evalue": "Cannot create a consistent method resolution\norder (MRO) for bases Top, Middle",
     "output_type": "error",
     "traceback": [
      "\u001b[1;31m---------------------------------------------------------------------------\u001b[0m",
      "\u001b[1;31mTypeError\u001b[0m                                 Traceback (most recent call last)",
      "\u001b[1;32m<ipython-input-96-d157898d1b12>\u001b[0m in \u001b[0;36m<module>\u001b[1;34m\u001b[0m\n\u001b[0;32m      9\u001b[0m \u001b[1;33m\u001b[0m\u001b[0m\n\u001b[0;32m     10\u001b[0m \u001b[1;33m\u001b[0m\u001b[0m\n\u001b[1;32m---> 11\u001b[1;33m \u001b[1;32mclass\u001b[0m \u001b[0mBottom\u001b[0m\u001b[1;33m(\u001b[0m\u001b[0mTop\u001b[0m\u001b[1;33m,\u001b[0m \u001b[0mMiddle\u001b[0m\u001b[1;33m)\u001b[0m\u001b[1;33m:\u001b[0m\u001b[1;33m\u001b[0m\u001b[1;33m\u001b[0m\u001b[0m\n\u001b[0m\u001b[0;32m     12\u001b[0m     \u001b[1;32mdef\u001b[0m \u001b[0mm_bottom\u001b[0m\u001b[1;33m(\u001b[0m\u001b[0mself\u001b[0m\u001b[1;33m)\u001b[0m\u001b[1;33m:\u001b[0m\u001b[1;33m\u001b[0m\u001b[1;33m\u001b[0m\u001b[0m\n\u001b[0;32m     13\u001b[0m         \u001b[0mprint\u001b[0m\u001b[1;33m(\u001b[0m\u001b[1;34m\"bottom\"\u001b[0m\u001b[1;33m)\u001b[0m\u001b[1;33m\u001b[0m\u001b[1;33m\u001b[0m\u001b[0m\n",
      "\u001b[1;31mTypeError\u001b[0m: Cannot create a consistent method resolution\norder (MRO) for bases Top, Middle"
     ]
    }
   ],
   "source": [
    "class Top:\n",
    "    def m_top(self):\n",
    "        print(\"top\")\n",
    "\n",
    "\n",
    "class Middle(Top):\n",
    "    def m_middle(self):\n",
    "        print(\"middle\")\n",
    "\n",
    "\n",
    "class Bottom(Top, Middle):\n",
    "    def m_bottom(self):\n",
    "        print(\"bottom\")\n",
    "\n",
    "\n",
    "object = Bottom()\n",
    "object.m_bottom()\n",
    "object.m_middle()\n",
    "object.m_top()"
   ]
  },
  {
   "cell_type": "markdown",
   "metadata": {},
   "source": [
    "To anticipate your question, we’ll say that this amendment has spoiled the code, and it won't run anymore. What a pity. The order we tried to force (Top, Middle) is incompatible with the inheritance path which is derived from the code's structure.\n",
    "\n",
    "We think that the message speaks for itself. Python's MRO cannot be bent or violated, not just because that's the way Python works, but also because it’s a rule you have to obey."
   ]
  },
  {
   "cell_type": "markdown",
   "metadata": {},
   "source": [
    "#### The diamond problem"
   ]
  },
  {
   "cell_type": "markdown",
   "metadata": {},
   "source": [
    "The second example of the spectrum of issues that can possibly arise from multiple inheritance is illustrated by a classic problem named the ***diamond problem***. The name reflects the shape of the inheritance diagram - take a look at the picture:"
   ]
  },
  {
   "cell_type": "markdown",
   "metadata": {},
   "source": [
    "![](./images/3-diamond.png)"
   ]
  },
  {
   "cell_type": "markdown",
   "metadata": {},
   "source": [
    "- There is the top-most superclass named A;\n",
    "- there are two subclasses derived from A: B and C;\n",
    "- and there is also the bottom-most subclass named D, derived from B and C (or C and B, as these two variants mean different things in Python)"
   ]
  },
  {
   "cell_type": "code",
   "execution_count": 97,
   "metadata": {},
   "outputs": [],
   "source": [
    "class A:\n",
    "    pass\n",
    "\n",
    "\n",
    "class B(A):\n",
    "    pass\n",
    "\n",
    "\n",
    "class C(A):\n",
    "    pass\n",
    "\n",
    "\n",
    "class D(B, C):\n",
    "    pass\n",
    "\n",
    "\n",
    "d = D()\n"
   ]
  },
  {
   "cell_type": "markdown",
   "metadata": {},
   "source": [
    "Some programming languages forbid multiple inheritance at all, and as a consequence, they won't let you build a diamond - this is the route that Java and C# have chosen to follow since their origins.\n",
    "\n",
    "Python, however, has chosen a different route - it allows multiple inheritance, and it doesn't mind if you write and run code like the one in the editor. But don't forget about MRO - it's always in charge.\n",
    "\n",
    "\n",
    "Let's rebuild our example from the previous page to make it more diamond-like, just like below:"
   ]
  },
  {
   "cell_type": "code",
   "execution_count": 99,
   "metadata": {},
   "outputs": [
    {
     "name": "stdout",
     "output_type": "stream",
     "text": [
      "bottom\n",
      "middle_left\n",
      "top\n"
     ]
    }
   ],
   "source": [
    "class Top:\n",
    "    def m_top(self):\n",
    "        print(\"top\")\n",
    "\n",
    "\n",
    "class Middle_Left(Top):\n",
    "    def m_middle(self):\n",
    "        print(\"middle_left\")\n",
    "\n",
    "\n",
    "class Middle_Right(Top):\n",
    "    def m_middle(self):\n",
    "        print(\"middle_right\")\n",
    "\n",
    "\n",
    "class Bottom(Middle_Left, Middle_Right):\n",
    "    def m_bottom(self):\n",
    "        print(\"bottom\")\n",
    "\n",
    "\n",
    "object = Bottom()\n",
    "object.m_bottom()\n",
    "object.m_middle()\n",
    "object.m_top()"
   ]
  },
  {
   "cell_type": "markdown",
   "metadata": {},
   "source": [
    "Yes, you're right. The invocation will activate the `m_middle()` method, which comes from the `Middle_Left` class. The explanation is simple: the class is listed before `Middle_Right` on the Bottom class's inheritance list. If you want to make sure that there’s no doubt about it, try to swap these two classes on the list and check the results.\n",
    "\n",
    "If you want to experience some more profound impressions about multiple inheritance and precious gemstones, try to modify our snippet and equip the `Upper` class with another specimen of the `m_middle()` method, and investigate its behavior carefully.\n",
    "\n",
    "As you can see, diamonds may bring some problems into your life – both the real ones and those offered by Python."
   ]
  },
  {
   "cell_type": "code",
   "execution_count": 100,
   "metadata": {},
   "outputs": [
    {
     "name": "stdout",
     "output_type": "stream",
     "text": [
      "A\n"
     ]
    }
   ],
   "source": [
    "import math\n",
    "\n",
    "try: \n",
    "    print(math.pow(2))\n",
    "except TypeError:\n",
    "    print(\"A\")\n",
    "else: \n",
    "    print(\"B\")"
   ]
  },
  {
   "cell_type": "markdown",
   "metadata": {},
   "source": [
    "## Python Essentials 2 - Module 4"
   ]
  },
  {
   "cell_type": "markdown",
   "metadata": {},
   "source": [
    "### Miscellaneous\n",
    "\n",
    "In this module, you will learn about:\n",
    "\n",
    "- Generators, iterators and closures;\n",
    "- Working with file-system, directory tree and files;\n",
    "- Selected Python Standard Library modules (os, datetime, time, and calendar.)"
   ]
  },
  {
   "cell_type": "code",
   "execution_count": null,
   "metadata": {},
   "outputs": [],
   "source": []
  },
  {
   "cell_type": "code",
   "execution_count": null,
   "metadata": {},
   "outputs": [],
   "source": []
  },
  {
   "cell_type": "code",
   "execution_count": null,
   "metadata": {},
   "outputs": [],
   "source": []
  },
  {
   "cell_type": "code",
   "execution_count": null,
   "metadata": {},
   "outputs": [],
   "source": []
  },
  {
   "cell_type": "code",
   "execution_count": null,
   "metadata": {},
   "outputs": [],
   "source": []
  },
  {
   "cell_type": "code",
   "execution_count": null,
   "metadata": {},
   "outputs": [],
   "source": []
  },
  {
   "cell_type": "code",
   "execution_count": null,
   "metadata": {},
   "outputs": [],
   "source": []
  },
  {
   "cell_type": "code",
   "execution_count": null,
   "metadata": {},
   "outputs": [],
   "source": []
  },
  {
   "cell_type": "code",
   "execution_count": null,
   "metadata": {},
   "outputs": [],
   "source": []
  },
  {
   "cell_type": "code",
   "execution_count": null,
   "metadata": {},
   "outputs": [],
   "source": []
  }
 ],
 "metadata": {
  "kernelspec": {
   "display_name": "Python 3",
   "language": "python",
   "name": "python3"
  },
  "language_info": {
   "codemirror_mode": {
    "name": "ipython",
    "version": 3
   },
   "file_extension": ".py",
   "mimetype": "text/x-python",
   "name": "python",
   "nbconvert_exporter": "python",
   "pygments_lexer": "ipython3",
   "version": "3.7.4"
  }
 },
 "nbformat": 4,
 "nbformat_minor": 2
}
